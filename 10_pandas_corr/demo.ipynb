{
 "cells": [
  {
   "cell_type": "markdown",
   "metadata": {},
   "source": [
    "# Korrelaatiokertoimen laskeminen Pandas dataframesta"
   ]
  },
  {
   "cell_type": "markdown",
   "metadata": {},
   "source": [
    "## Luetaan kirjastot sisään"
   ]
  },
  {
   "cell_type": "code",
   "execution_count": 11,
   "metadata": {},
   "outputs": [],
   "source": [
    "import pandas as pd\n",
    "import matplotlib.pyplot as plt\n",
    "from helper import parser, min_or_max_of_series\n",
    "import ipywidgets as widgets\n",
    "%matplotlib widget"
   ]
  },
  {
   "cell_type": "markdown",
   "metadata": {},
   "source": [
    "## Luetaan data sisään ja käännetään dataframe ympäri"
   ]
  },
  {
   "cell_type": "code",
   "execution_count": 7,
   "metadata": {},
   "outputs": [
    {
     "data": {
      "text/html": [
       "<div>\n",
       "<style scoped>\n",
       "    .dataframe tbody tr th:only-of-type {\n",
       "        vertical-align: middle;\n",
       "    }\n",
       "\n",
       "    .dataframe tbody tr th {\n",
       "        vertical-align: top;\n",
       "    }\n",
       "\n",
       "    .dataframe thead th {\n",
       "        text-align: right;\n",
       "    }\n",
       "</style>\n",
       "<table border=\"1\" class=\"dataframe\">\n",
       "  <thead>\n",
       "    <tr style=\"text-align: right;\">\n",
       "      <th></th>\n",
       "      <th>Neste</th>\n",
       "      <th>Kemira</th>\n",
       "      <th>Metsa</th>\n",
       "      <th>Outokumpu</th>\n",
       "      <th>StoraEnso</th>\n",
       "      <th>UPM</th>\n",
       "      <th>Cargotec</th>\n",
       "      <th>Huhtamaki</th>\n",
       "      <th>Kone</th>\n",
       "      <th>Sanoma</th>\n",
       "      <th>Elisa</th>\n",
       "      <th>Nokia</th>\n",
       "    </tr>\n",
       "    <tr>\n",
       "      <th>PVM</th>\n",
       "      <th></th>\n",
       "      <th></th>\n",
       "      <th></th>\n",
       "      <th></th>\n",
       "      <th></th>\n",
       "      <th></th>\n",
       "      <th></th>\n",
       "      <th></th>\n",
       "      <th></th>\n",
       "      <th></th>\n",
       "      <th></th>\n",
       "      <th></th>\n",
       "    </tr>\n",
       "  </thead>\n",
       "  <tbody>\n",
       "    <tr>\n",
       "      <th>2011-01-03</th>\n",
       "      <td>4.056</td>\n",
       "      <td>11.879</td>\n",
       "      <td>2.865</td>\n",
       "      <td>32.619</td>\n",
       "      <td>7.972</td>\n",
       "      <td>13.535</td>\n",
       "      <td>39.289</td>\n",
       "      <td>10.363</td>\n",
       "      <td>21.065</td>\n",
       "      <td>16.480</td>\n",
       "      <td>16.498</td>\n",
       "      <td>7.951</td>\n",
       "    </tr>\n",
       "    <tr>\n",
       "      <th>2011-01-04</th>\n",
       "      <td>4.094</td>\n",
       "      <td>11.979</td>\n",
       "      <td>2.982</td>\n",
       "      <td>32.590</td>\n",
       "      <td>7.977</td>\n",
       "      <td>13.415</td>\n",
       "      <td>39.159</td>\n",
       "      <td>10.306</td>\n",
       "      <td>21.267</td>\n",
       "      <td>16.477</td>\n",
       "      <td>16.499</td>\n",
       "      <td>8.078</td>\n",
       "    </tr>\n",
       "    <tr>\n",
       "      <th>2011-01-05</th>\n",
       "      <td>4.101</td>\n",
       "      <td>11.872</td>\n",
       "      <td>2.953</td>\n",
       "      <td>31.888</td>\n",
       "      <td>7.955</td>\n",
       "      <td>13.293</td>\n",
       "      <td>38.635</td>\n",
       "      <td>10.290</td>\n",
       "      <td>20.963</td>\n",
       "      <td>16.494</td>\n",
       "      <td>16.368</td>\n",
       "      <td>8.145</td>\n",
       "    </tr>\n",
       "    <tr>\n",
       "      <th>2011-01-07</th>\n",
       "      <td>4.193</td>\n",
       "      <td>11.909</td>\n",
       "      <td>3.052</td>\n",
       "      <td>32.130</td>\n",
       "      <td>8.194</td>\n",
       "      <td>13.494</td>\n",
       "      <td>38.475</td>\n",
       "      <td>10.428</td>\n",
       "      <td>20.973</td>\n",
       "      <td>16.548</td>\n",
       "      <td>16.256</td>\n",
       "      <td>8.170</td>\n",
       "    </tr>\n",
       "    <tr>\n",
       "      <th>2011-01-10</th>\n",
       "      <td>4.249</td>\n",
       "      <td>11.525</td>\n",
       "      <td>3.011</td>\n",
       "      <td>31.581</td>\n",
       "      <td>8.181</td>\n",
       "      <td>13.122</td>\n",
       "      <td>37.603</td>\n",
       "      <td>10.297</td>\n",
       "      <td>20.647</td>\n",
       "      <td>16.292</td>\n",
       "      <td>15.986</td>\n",
       "      <td>8.052</td>\n",
       "    </tr>\n",
       "  </tbody>\n",
       "</table>\n",
       "</div>"
      ],
      "text/plain": [
       "            Neste  Kemira  Metsa  Outokumpu  StoraEnso     UPM  Cargotec  \\\n",
       "PVM                                                                        \n",
       "2011-01-03  4.056  11.879  2.865     32.619      7.972  13.535    39.289   \n",
       "2011-01-04  4.094  11.979  2.982     32.590      7.977  13.415    39.159   \n",
       "2011-01-05  4.101  11.872  2.953     31.888      7.955  13.293    38.635   \n",
       "2011-01-07  4.193  11.909  3.052     32.130      8.194  13.494    38.475   \n",
       "2011-01-10  4.249  11.525  3.011     31.581      8.181  13.122    37.603   \n",
       "\n",
       "            Huhtamaki    Kone  Sanoma   Elisa  Nokia  \n",
       "PVM                                                   \n",
       "2011-01-03     10.363  21.065  16.480  16.498  7.951  \n",
       "2011-01-04     10.306  21.267  16.477  16.499  8.078  \n",
       "2011-01-05     10.290  20.963  16.494  16.368  8.145  \n",
       "2011-01-07     10.428  20.973  16.548  16.256  8.170  \n",
       "2011-01-10     10.297  20.647  16.292  15.986  8.052  "
      ]
     },
     "execution_count": 7,
     "metadata": {},
     "output_type": "execute_result"
    }
   ],
   "source": [
    "data = pd.read_csv('../data/osakkeet.csv', index_col='PVM', parse_dates=['PVM'], date_parser=parser)\n",
    "\n",
    "data = data[::-1]\n",
    "data.head(5)"
   ]
  },
  {
   "cell_type": "markdown",
   "metadata": {},
   "source": [
    "## Lasketaan pearsonin korrelaatiokerroin jokaiselle osakeaikasarjalle dataframe.corr() -funktion avulla"
   ]
  },
  {
   "cell_type": "code",
   "execution_count": 26,
   "metadata": {},
   "outputs": [
    {
     "data": {
      "text/plain": [
       "-0.41262043808051607"
      ]
     },
     "execution_count": 26,
     "metadata": {},
     "output_type": "execute_result"
    }
   ],
   "source": [
    "correlations = data.corr()\n",
    "correlations.head(5)"
   ]
  },
  {
   "cell_type": "markdown",
   "metadata": {},
   "source": [
    "## Piirretään kuvaaja Outokummun ja Sanoman osakkeen kehityksestä tutkitulla aikavälillä"
   ]
  },
  {
   "cell_type": "markdown",
   "metadata": {},
   "source": [
    "### Ajamalla notebookin omalla koneella, voi liukuvalikoista vaihtaa, minkä kahden osakkeen kuvaajat piirretään"
   ]
  },
  {
   "cell_type": "code",
   "execution_count": 30,
   "metadata": {},
   "outputs": [
    {
     "data": {
      "application/vnd.jupyter.widget-view+json": {
       "model_id": "45b811c81eb44838a0d6b7521d7ba58b",
       "version_major": 2,
       "version_minor": 0
      },
      "text/plain": [
       "interactive(children=(Dropdown(description='series1', index=3, options=('Neste', 'Kemira', 'Metsa', 'Outokumpu…"
      ]
     },
     "metadata": {},
     "output_type": "display_data"
    }
   ],
   "source": [
    "def plot_time_series(series1, series2):\n",
    "    plt.close('all')\n",
    "    ax = data.plot(y=[series1, series2],\n",
    "              **{'marker': 'o',\n",
    "                 'linewidth': 0.5,\n",
    "                 'markersize': 2,\n",
    "                 'xlabel': 'Päivämäärä',\n",
    "                 'ylabel': 'Keskihinta (€)',\n",
    "                 'figsize': (8, 6),\n",
    "                 'title': f'{series1} & {series2} korrelaatio: {correlations[series1][series2]:.2f}'\n",
    "              })\n",
    "    plt.show()\n",
    "\n",
    "\n",
    "widgets.interactive(plot_time_series, series1=widgets.Dropdown(options=data.columns, value='Outokumpu'),\n",
    "                    series2=widgets.Dropdown(options=data.columns, value='Sanoma'))\n"
   ]
  },
  {
   "cell_type": "code",
   "execution_count": 28,
   "metadata": {},
   "outputs": [],
   "source": []
  }
 ],
 "metadata": {
  "interpreter": {
   "hash": "a9d3111656d69794d0b9f5b9e3b29ea4aa7407c0b1a14d242da101c6eee70f83"
  },
  "kernelspec": {
   "display_name": "Python 3.9.6 64-bit ('env': venv)",
   "name": "python3"
  },
  "language_info": {
   "codemirror_mode": {
    "name": "ipython",
    "version": 3
   },
   "file_extension": ".py",
   "mimetype": "text/x-python",
   "name": "python",
   "nbconvert_exporter": "python",
   "pygments_lexer": "ipython3",
   "version": "3.9.6"
  },
  "orig_nbformat": 4
 },
 "nbformat": 4,
 "nbformat_minor": 2
}
