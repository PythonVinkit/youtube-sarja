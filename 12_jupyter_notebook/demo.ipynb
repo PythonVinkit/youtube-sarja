{
 "cells": [
  {
   "cell_type": "markdown",
   "metadata": {},
   "source": [
    "# Jupyter notebookit"
   ]
  },
  {
   "cell_type": "markdown",
   "metadata": {},
   "source": [
    "Jupyter notebook on kätevä nettisovellus, jossa teksti ja koodi yhdistyy yhdeksi laskennalliseksi ympäristöksi.\n",
    "\n",
    "Notebookeissa teksti ja koodi kirjoitetaan 'soluihin'."
   ]
  },
  {
   "cell_type": "markdown",
   "metadata": {},
   "source": [
    "## Tekstisolut"
   ]
  },
  {
   "cell_type": "markdown",
   "metadata": {},
   "source": [
    "Teksti kirjoitetaan Markdown-kielellä. Markdown on helppo tyypityskieli, joka mahdollistaa esimerkiksi seuraavat asiat\n",
    "1. Listat\n",
    "2. **Tekstin** *korostuksen* ~~muutamalla tavalla~~\n",
    "3. Linkit ( [tästä](https://github.com/adam-p/markdown-here/wiki/Markdown-Cheatsheet) voi katsoa muita Markdownin mahdollistamia asioita )\n",
    "4. Kuvat \n",
    "\n",
    "<img src=\"testikuva.png\" width=\"35%\" height=\"35%\" />\n",
    "\n",
    "5. koodin\n",
    "```python\n",
    "a = 5\n",
    "b = 5\n",
    "print(a+b)\n",
    "```\n",
    "6. taulukot\n",
    "\n",
    "| Osa   | Aihe                          | Tekijä  |\n",
    "| ----- |:-----------------------------:|---------|\n",
    "| 01    | Pathlib.path                  | Junnu   |\n",
    "| 02    | Pandas DataFrame              | Opa     |\n",
    "| 03    | Logging                       | Junnu   |\n",
    "| 04    | DataFrame describe & resample | Opa     | \n",
    "\n",
    "\n",
    "\n",
    "\n",
    "7. $ \\LaTeX $\n",
    "\n",
    "$ \\begin{align*}\n",
    "\\alpha + \\gamma &= \\beta \\\\\n",
    "\\alpha &= \\beta - \\gamma\n",
    "\\end{align*}\n",
    "$\n"
   ]
  },
  {
   "cell_type": "markdown",
   "metadata": {},
   "source": [
    "## Koodisolut"
   ]
  },
  {
   "cell_type": "markdown",
   "metadata": {},
   "source": [
    "### Importit"
   ]
  },
  {
   "cell_type": "code",
   "execution_count": 4,
   "metadata": {},
   "outputs": [],
   "source": [
    "%matplotlib widget\n",
    "import numpy as np\n",
    "import pandas as pd\n",
    "import ipywidgets as widgets\n",
    "import matplotlib.pyplot as plt\n",
    "import matplotlib"
   ]
  },
  {
   "cell_type": "markdown",
   "metadata": {},
   "source": [
    "### Luetaan data sisään"
   ]
  },
  {
   "cell_type": "code",
   "execution_count": 5,
   "metadata": {},
   "outputs": [
    {
     "data": {
      "text/html": [
       "<div>\n",
       "<style scoped>\n",
       "    .dataframe tbody tr th:only-of-type {\n",
       "        vertical-align: middle;\n",
       "    }\n",
       "\n",
       "    .dataframe tbody tr th {\n",
       "        vertical-align: top;\n",
       "    }\n",
       "\n",
       "    .dataframe thead th {\n",
       "        text-align: right;\n",
       "    }\n",
       "</style>\n",
       "<table border=\"1\" class=\"dataframe\">\n",
       "  <thead>\n",
       "    <tr style=\"text-align: right;\">\n",
       "      <th></th>\n",
       "      <th>Neste</th>\n",
       "      <th>Kemira</th>\n",
       "      <th>Metsa</th>\n",
       "      <th>Outokumpu</th>\n",
       "      <th>StoraEnso</th>\n",
       "      <th>UPM</th>\n",
       "      <th>Cargotec</th>\n",
       "      <th>Huhtamaki</th>\n",
       "      <th>Kone</th>\n",
       "      <th>Sanoma</th>\n",
       "      <th>Elisa</th>\n",
       "      <th>Nokia</th>\n",
       "    </tr>\n",
       "    <tr>\n",
       "      <th>PVM</th>\n",
       "      <th></th>\n",
       "      <th></th>\n",
       "      <th></th>\n",
       "      <th></th>\n",
       "      <th></th>\n",
       "      <th></th>\n",
       "      <th></th>\n",
       "      <th></th>\n",
       "      <th></th>\n",
       "      <th></th>\n",
       "      <th></th>\n",
       "      <th></th>\n",
       "    </tr>\n",
       "  </thead>\n",
       "  <tbody>\n",
       "    <tr>\n",
       "      <th>2011-10-01</th>\n",
       "      <td>4.249</td>\n",
       "      <td>11.525</td>\n",
       "      <td>3.011</td>\n",
       "      <td>31.581</td>\n",
       "      <td>8.181</td>\n",
       "      <td>13.122</td>\n",
       "      <td>37.603</td>\n",
       "      <td>10.297</td>\n",
       "      <td>20.647</td>\n",
       "      <td>16.292</td>\n",
       "      <td>15.986</td>\n",
       "      <td>8.052</td>\n",
       "    </tr>\n",
       "    <tr>\n",
       "      <th>2011-07-01</th>\n",
       "      <td>4.193</td>\n",
       "      <td>11.909</td>\n",
       "      <td>3.052</td>\n",
       "      <td>32.130</td>\n",
       "      <td>8.194</td>\n",
       "      <td>13.494</td>\n",
       "      <td>38.475</td>\n",
       "      <td>10.428</td>\n",
       "      <td>20.973</td>\n",
       "      <td>16.548</td>\n",
       "      <td>16.256</td>\n",
       "      <td>8.170</td>\n",
       "    </tr>\n",
       "    <tr>\n",
       "      <th>2011-05-01</th>\n",
       "      <td>4.101</td>\n",
       "      <td>11.872</td>\n",
       "      <td>2.953</td>\n",
       "      <td>31.888</td>\n",
       "      <td>7.955</td>\n",
       "      <td>13.293</td>\n",
       "      <td>38.635</td>\n",
       "      <td>10.290</td>\n",
       "      <td>20.963</td>\n",
       "      <td>16.494</td>\n",
       "      <td>16.368</td>\n",
       "      <td>8.145</td>\n",
       "    </tr>\n",
       "    <tr>\n",
       "      <th>2011-04-01</th>\n",
       "      <td>4.094</td>\n",
       "      <td>11.979</td>\n",
       "      <td>2.982</td>\n",
       "      <td>32.590</td>\n",
       "      <td>7.977</td>\n",
       "      <td>13.415</td>\n",
       "      <td>39.159</td>\n",
       "      <td>10.306</td>\n",
       "      <td>21.267</td>\n",
       "      <td>16.477</td>\n",
       "      <td>16.499</td>\n",
       "      <td>8.078</td>\n",
       "    </tr>\n",
       "    <tr>\n",
       "      <th>2011-03-01</th>\n",
       "      <td>4.056</td>\n",
       "      <td>11.879</td>\n",
       "      <td>2.865</td>\n",
       "      <td>32.619</td>\n",
       "      <td>7.972</td>\n",
       "      <td>13.535</td>\n",
       "      <td>39.289</td>\n",
       "      <td>10.363</td>\n",
       "      <td>21.065</td>\n",
       "      <td>16.480</td>\n",
       "      <td>16.498</td>\n",
       "      <td>7.951</td>\n",
       "    </tr>\n",
       "  </tbody>\n",
       "</table>\n",
       "</div>"
      ],
      "text/plain": [
       "            Neste  Kemira  Metsa  Outokumpu  StoraEnso     UPM  Cargotec  \\\n",
       "PVM                                                                        \n",
       "2011-10-01  4.249  11.525  3.011     31.581      8.181  13.122    37.603   \n",
       "2011-07-01  4.193  11.909  3.052     32.130      8.194  13.494    38.475   \n",
       "2011-05-01  4.101  11.872  2.953     31.888      7.955  13.293    38.635   \n",
       "2011-04-01  4.094  11.979  2.982     32.590      7.977  13.415    39.159   \n",
       "2011-03-01  4.056  11.879  2.865     32.619      7.972  13.535    39.289   \n",
       "\n",
       "            Huhtamaki    Kone  Sanoma   Elisa  Nokia  \n",
       "PVM                                                   \n",
       "2011-10-01     10.297  20.647  16.292  15.986  8.052  \n",
       "2011-07-01     10.428  20.973  16.548  16.256  8.170  \n",
       "2011-05-01     10.290  20.963  16.494  16.368  8.145  \n",
       "2011-04-01     10.306  21.267  16.477  16.499  8.078  \n",
       "2011-03-01     10.363  21.065  16.480  16.498  7.951  "
      ]
     },
     "execution_count": 5,
     "metadata": {},
     "output_type": "execute_result"
    }
   ],
   "source": [
    "data = pd.read_csv('../data/osakkeet.csv', parse_dates=['PVM'], index_col='PVM')\n",
    "data.tail()"
   ]
  },
  {
   "cell_type": "code",
   "execution_count": 6,
   "metadata": {},
   "outputs": [
    {
     "data": {
      "text/plain": [
       "array([[5.19765645e-01, 7.62842251e-01, 5.86898388e-01],\n",
       "       [7.39859942e-01, 6.68841438e-01, 4.06287781e-01],\n",
       "       [8.69280492e-01, 3.57629970e-01, 7.79145953e-01],\n",
       "       [3.17882782e-01, 9.29314008e-02, 4.62154831e-01],\n",
       "       [1.00686898e-01, 5.33335405e-01, 9.93957290e-01],\n",
       "       [9.37920894e-01, 7.59311255e-03, 3.87694459e-01],\n",
       "       [1.98929566e-02, 1.39871127e-01, 8.14763056e-01],\n",
       "       [3.72797689e-01, 5.66997013e-01, 6.90022111e-01],\n",
       "       [7.81295985e-01, 1.51487544e-01, 2.32063935e-02],\n",
       "       [1.77602978e-01, 6.25965287e-01, 2.27910319e-04]])"
      ]
     },
     "execution_count": 6,
     "metadata": {},
     "output_type": "execute_result"
    }
   ],
   "source": [
    "np.random.uniform(size=(10,3))"
   ]
  },
  {
   "cell_type": "markdown",
   "metadata": {},
   "source": [
    "## Interaktiivisen kuvaajien piirtäminen\n",
    "\n",
    "Tekstin ja koodin yhdistämisen lisäksi mahdollisuus interaktiivisten kuvaajien piirtämiseen on yksi notebookkien hienoista ominaisuuksista"
   ]
  },
  {
   "cell_type": "code",
   "execution_count": 9,
   "metadata": {},
   "outputs": [
    {
     "data": {
      "application/vnd.jupyter.widget-view+json": {
       "model_id": "6a2813c9f59f496ba47927377bbc8eb9",
       "version_major": 2,
       "version_minor": 0
      },
      "text/plain": [
       "interactive(children=(Checkbox(value=False, description='plottaa'), IntSlider(value=1, description='kulmakerro…"
      ]
     },
     "metadata": {},
     "output_type": "display_data"
    },
    {
     "data": {
      "application/vnd.jupyter.widget-view+json": {
       "model_id": "7d401ba84a4d4891a6f6b3a2511e0c13",
       "version_major": 2,
       "version_minor": 0
      },
      "image/png": "[encoded data removed]",
      "text/plain": [
       "Canvas(toolbar=Toolbar(toolitems=[('Home', 'Reset original view', 'home', 'home'), ('Back', 'Back to previous …"
      ]
     },
     "metadata": {},
     "output_type": "display_data"
    }
   ],
   "source": [
    "fig, ax = plt.subplots(figsize=(8, 5))\n",
    "def kuva(plottaa, kulmakerroin, leikkauspiste, eksponentti, teksti):\n",
    "    ax.clear()\n",
    "    if(plottaa):\n",
    "        x = np.linspace(0, 10, 20)\n",
    "        y = x**eksponentti*kulmakerroin+eksponentti + leikkauspiste\n",
    "        ax.plot(x, y, 'b-', linewidth=4)\n",
    "        ax.text(0,45, teksti)\n",
    "        ax.set_xlim([0, 10])\n",
    "        ax.set_ylim([0, 50])\n",
    "\n",
    "\n",
    "widgets.interactive(kuva, plottaa=widgets.Checkbox(value=False),\n",
    "                    kulmakerroin=widgets.IntSlider(value=1,min=0,max=5,step=1),\n",
    "                    leikkauspiste=widgets.FloatSlider(value=2, min=0, max=10, step=0.1),\n",
    "                    eksponentti=widgets.Dropdown(options=[1,2,3], value=1, description='Eksponentti'),\n",
    "                    teksti=widgets.Textarea(value='Teksti'))\n"
   ]
  },
  {
   "cell_type": "code",
   "execution_count": 8,
   "metadata": {},
   "outputs": [],
   "source": [
    "plt.close('all')"
   ]
  }
 ],
 "metadata": {
  "interpreter": {
   "hash": "a9d3111656d69794d0b9f5b9e3b29ea4aa7407c0b1a14d242da101c6eee70f83"
  },
  "kernelspec": {
   "display_name": "Python 3.9.6 64-bit ('env': venv)",
   "name": "python3"
  },
  "language_info": {
   "codemirror_mode": {
    "name": "ipython",
    "version": 3
   },
   "file_extension": ".py",
   "mimetype": "text/x-python",
   "name": "python",
   "nbconvert_exporter": "python",
   "pygments_lexer": "ipython3",
   "version": "3.9.6"
  }
 },
 "nbformat": 4,
 "nbformat_minor": 2
}
